{
 "cells": [
  {
   "cell_type": "code",
   "execution_count": 2,
   "metadata": {},
   "outputs": [],
   "source": [
    "import csv\n",
    "with open('/workspace/NeMo-text-processing/nemo_text_processing/text_normalization/it/data/numbers/digit_.tsv', 'wt') as out_file:\n",
    "    tsv_writer = csv.writer(out_file, delimiter='\\t')\n",
    "    tsv_writer.writerow(['uno', '1'])\n",
    "    tsv_writer.writerow(['due', '2'])\n",
    "    tsv_writer.writerow(['tre', '3'])\n",
    "    tsv_writer.writerow(['quattro', '4'])\n",
    "    tsv_writer.writerow(['cinque', '5'])\n",
    "    tsv_writer.writerow(['sei', '6'])\n",
    "    tsv_writer.writerow(['sette', '7'])\n",
    "    tsv_writer.writerow(['otto', '8'])\n",
    "    tsv_writer.writerow(['nove', '9'])"
   ]
  },
  {
   "cell_type": "code",
   "execution_count": 4,
   "metadata": {},
   "outputs": [],
   "source": [
    "import csv\n",
    "with open('/workspace/NeMo-text-processing/nemo_text_processing/text_normalization/it/data/numbers/teen_.tsv', 'wt') as out_file:\n",
    "    tsv_writer = csv.writer(out_file, delimiter='\\t')\n",
    "    tsv_writer.writerow(['duecento', '2'])\n",
    "    tsv_writer.writerow(['trecento', '3'])\n",
    "    tsv_writer.writerow(['quattrocento', '4'])\n",
    "    tsv_writer.writerow(['cinquecento', '5'])\n",
    "    tsv_writer.writerow(['seicento', '6'])\n",
    "    tsv_writer.writerow(['settecento', '7'])\n",
    "    tsv_writer.writerow(['ottocento', '8'])\n",
    "    tsv_writer.writerow(['novecento', '9'])"
   ]
  },
  {
   "cell_type": "code",
   "execution_count": 6,
   "metadata": {},
   "outputs": [],
   "source": [
    "import csv\n",
    "with open('/workspace/NeMo-text-processing/nemo_text_processing/text_normalization/it/data/numbers/teen_.tsv', 'wt') as out_file:\n",
    "    tsv_writer = csv.writer(out_file, delimiter='\\t')\n",
    "    tsv_writer.writerow(['dieci', '10'])\n",
    "    tsv_writer.writerow(['undici', '11'])\n",
    "    tsv_writer.writerow(['dodici', '12'])\n",
    "    tsv_writer.writerow(['tredici', '13'])\n",
    "    tsv_writer.writerow(['quattordici', '14'])\n",
    "    tsv_writer.writerow(['quindici', '15'])\n",
    "    tsv_writer.writerow(['sedici', '16'])\n",
    "    tsv_writer.writerow(['diciassette', '17'])\n",
    "    tsv_writer.writerow(['diciotto', '18'])\n",
    "    tsv_writer.writerow(['diciannove', '19'])"
   ]
  },
  {
   "cell_type": "code",
   "execution_count": 7,
   "metadata": {},
   "outputs": [],
   "source": [
    "import csv\n",
    "with open('/workspace/NeMo-text-processing/nemo_text_processing/text_normalization/it/data/numbers/tens_one_.tsv', 'wt') as out_file:\n",
    "    tsv_writer = csv.writer(out_file, delimiter='\\t')\n",
    "    tsv_writer.writerow(['ventuno', '21'])\n",
    "    tsv_writer.writerow(['trentuno', '31'])\n",
    "    tsv_writer.writerow(['quarantuno', '41'])\n",
    "    tsv_writer.writerow(['cinquantuno', '51'])\n",
    "    tsv_writer.writerow(['sessantuno', '61'])\n",
    "    tsv_writer.writerow(['settantuno', '71'])\n",
    "    tsv_writer.writerow(['ottantuno', '81'])\n",
    "    tsv_writer.writerow(['novantuno', '91'])"
   ]
  },
  {
   "cell_type": "code",
   "execution_count": 9,
   "metadata": {},
   "outputs": [],
   "source": [
    "import csv\n",
    "with open('/workspace/NeMo-text-processing/nemo_text_processing/text_normalization/it/data/numbers/tens_.tsv', 'wt') as out_file:\n",
    "    tsv_writer = csv.writer(out_file, delimiter='\\t')\n",
    "    tsv_writer.writerow(['venti', '2'])\n",
    "    tsv_writer.writerow(['trenta', '3'])\n",
    "    tsv_writer.writerow(['quaranta', '4'])\n",
    "    tsv_writer.writerow(['cinquanta', '5'])\n",
    "    tsv_writer.writerow(['sessanta', '6'])\n",
    "    tsv_writer.writerow(['settanta', '7'])\n",
    "    tsv_writer.writerow(['ottanta', '8'])\n",
    "    tsv_writer.writerow(['novanta', '9'])"
   ]
  },
  {
   "cell_type": "code",
   "execution_count": 10,
   "metadata": {},
   "outputs": [],
   "source": [
    "import csv\n",
    "with open('/workspace/NeMo-text-processing/nemo_text_processing/text_normalization/it/data/numbers/zero_.tsv', 'wt') as out_file:\n",
    "    tsv_writer = csv.writer(out_file, delimiter='\\t')\n",
    "    tsv_writer.writerow(['zero', '0'])"
   ]
  },
  {
   "cell_type": "code",
   "execution_count": 1,
   "metadata": {},
   "outputs": [],
   "source": [
    "import csv\n",
    "with open('/workspace/NeMo-text-processing/nemo_text_processing/text_normalization/it/data/whitelist_.tsv', 'wt') as out_file:\n",
    "    tsv_writer = csv.writer(out_file, delimiter='\\t')\n",
    "    tsv_writer.writerow(['dr', 'dottor'])\n",
    "    tsv_writer.writerow(['dr.', 'dottor'])\n",
    "    tsv_writer.writerow(['Dr.', 'dottor'])\n",
    "    tsv_writer.writerow(['dott.', 'dottor'])\n",
    "    tsv_writer.writerow(['Dott.', 'dottor'])\n",
    "    tsv_writer.writerow(['dott.sa', 'dottoressa'])\n",
    "    tsv_writer.writerow(['Dott.sa', 'dottoressa'])\n",
    "    tsv_writer.writerow(['prof.', 'professore'])\n",
    "    tsv_writer.writerow(['Prof.', 'professore'])\n",
    "    tsv_writer.writerow(['proff.', 'professori'])\n",
    "    tsv_writer.writerow(['Proff.', 'professori'])\n",
    "    tsv_writer.writerow(['prof.ssa', 'professoressa'])\n",
    "    tsv_writer.writerow(['Prof.ssa', 'professoressa'])\n",
    "    tsv_writer.writerow(['Sig.', 'signore'])\n",
    "    tsv_writer.writerow(['Sig.na', 'signorina'])\n",
    "    tsv_writer.writerow(['sig.', 'signore'])\n",
    "    tsv_writer.writerow(['sig.na', 'signorina'])\n",
    "    tsv_writer.writerow(['sig', 'signore'])\n",
    "    tsv_writer.writerow(['Sigg.', 'signori'])\n",
    "    tsv_writer.writerow(['sigg.', 'signori'])\n",
    "    tsv_writer.writerow(['Sig.ri', 'signori'])\n",
    "    tsv_writer.writerow(['sig.ri', 'signori'])\n",
    "    tsv_writer.writerow(['Sig.re', 'signore'])\n",
    "    tsv_writer.writerow(['sig.re', 'signore'])\n",
    "    tsv_writer.writerow(['Sig.ra', 'signora'])\n",
    "    tsv_writer.writerow(['sig.ra', 'signora'])\n",
    "    tsv_writer.writerow(['Sig.re', 'signorine'])\n",
    "    tsv_writer.writerow(['sig.re', 'signorine'])\n",
    "    tsv_writer.writerow(['Avv.', 'avvocato'])\n",
    "    tsv_writer.writerow(['avv.', 'avvocato'])\n",
    "    tsv_writer.writerow(['Arch.', 'architetto'])\n",
    "    tsv_writer.writerow(['arch.', 'architetto'])\n",
    "    tsv_writer.writerow(['Rag.', 'ragioniere'])\n",
    "    tsv_writer.writerow(['rag.', 'ragioniere'])\n",
    "    tsv_writer.writerow(['Geom.', 'geometra'])\n",
    "    tsv_writer.writerow(['geom.', 'geometra'])\n",
    "    tsv_writer.writerow(['Ing.', 'ingegnere'])\n",
    "    tsv_writer.writerow(['ing.', 'ingegnere'])\n",
    "    tsv_writer.writerow(['Ingg.', 'ingegneri'])\n",
    "    tsv_writer.writerow(['ingg.', 'ingegneri'])\n",
    "    tsv_writer.writerow(['Fam.', 'famiglia'])\n",
    "    tsv_writer.writerow(['fam.', 'famiglia'])\n",
    "    tsv_writer.writerow(['f.lli', 'fratelli'])\n",
    "    tsv_writer.writerow(['F.lli', 'fratelli'])\n",
    "    tsv_writer.writerow(['Rev.', 'reverendo'])\n",
    "    tsv_writer.writerow(['On.', 'onorevole'])\n",
    "    tsv_writer.writerow(['on.', 'onorevole'])\n",
    "    tsv_writer.writerow(['Onn.', 'onorevoli'])\n",
    "    tsv_writer.writerow(['onn.', 'onorevoli'])\n",
    "    tsv_writer.writerow(['Min.', 'ministro'])\n",
    "    tsv_writer.writerow(['Sen.', 'senatore'])\n",
    "    tsv_writer.writerow(['c.v.d.', 'come volevasi dimostrare'])\n",
    "    tsv_writer.writerow(['ecc.', 'eccetera'])\n",
    "    tsv_writer.writerow(['ecc', 'eccetera'])\n",
    "    tsv_writer.writerow(['v.le', 'viale'])\n",
    "    tsv_writer.writerow(['p.za', 'piazza'])\n",
    "    tsv_writer.writerow(['l.go', 'largo'])\n",
    "    tsv_writer.writerow(['loc.', 'località'])\n",
    "    tsv_writer.writerow(['ist.', 'istituto'])\n",
    "    tsv_writer.writerow(['segr.', 'segreteria'])\n",
    "    tsv_writer.writerow(['set.', 'settore'])\n",
    "    tsv_writer.writerow(['uff.', 'ufficio'])\n",
    "    tsv_writer.writerow(['dip.', 'dipartimento'])\n",
    "    tsv_writer.writerow(['div.', 'divisione'])"
   ]
  },
  {
   "cell_type": "code",
   "execution_count": null,
   "metadata": {},
   "outputs": [],
   "source": []
  }
 ],
 "metadata": {
  "kernelspec": {
   "display_name": "base",
   "language": "python",
   "name": "python3"
  },
  "language_info": {
   "codemirror_mode": {
    "name": "ipython",
    "version": 3
   },
   "file_extension": ".py",
   "mimetype": "text/x-python",
   "name": "python",
   "nbconvert_exporter": "python",
   "pygments_lexer": "ipython3",
   "version": "3.8.13"
  },
  "orig_nbformat": 4
 },
 "nbformat": 4,
 "nbformat_minor": 2
}
