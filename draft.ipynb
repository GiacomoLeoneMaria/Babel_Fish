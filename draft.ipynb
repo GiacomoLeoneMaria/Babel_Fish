{
 "cells": [
  {
   "cell_type": "code",
   "execution_count": null,
   "metadata": {},
   "outputs": [],
   "source": [
    "from nemo_text_processing.text_normalization.normalize import Normalizer\n",
    "normalizer_it = Normalizer(input_case='cased', lang='it')\n",
    "normalizer_es = Normalizer(input_case='cased', lang='es')"
   ]
  },
  {
   "cell_type": "code",
   "execution_count": null,
   "metadata": {},
   "outputs": [],
   "source": [
    "written_it = \"Ho mangiato con il Dr. L. 230459\"\n",
    "normalized_it = normalizer_it.normalize(written_it, verbose=True, punct_post_process=True)\n",
    "print(normalized_it)\n",
    "\n",
    "written_es = \"Comí con dr. L 341 dulces. 230459\"\n",
    "normalized_es = normalizer_es.normalize(written_es, verbose=True, punct_post_process=True)\n",
    "print(normalized_es)"
   ]
  },
  {
   "cell_type": "code",
   "execution_count": null,
   "metadata": {},
   "outputs": [],
   "source": []
  }
 ],
 "metadata": {
  "kernelspec": {
   "display_name": "base",
   "language": "python",
   "name": "python3"
  },
  "language_info": {
   "codemirror_mode": {
    "name": "ipython",
    "version": 3
   },
   "file_extension": ".py",
   "mimetype": "text/x-python",
   "name": "python",
   "nbconvert_exporter": "python",
   "pygments_lexer": "ipython3",
   "version": "3.8.13"
  },
  "orig_nbformat": 4
 },
 "nbformat": 4,
 "nbformat_minor": 2
}
