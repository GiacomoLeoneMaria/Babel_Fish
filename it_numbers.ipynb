{
 "cells": [
  {
   "cell_type": "code",
   "execution_count": 17,
   "metadata": {},
   "outputs": [],
   "source": [
    "import pynini\n",
    "import nemo_text_processing\n",
    "from pynini.lib import pynutil"
   ]
  },
  {
   "cell_type": "code",
   "execution_count": 18,
   "metadata": {},
   "outputs": [],
   "source": [
    "from pynini.lib import pynutil\n",
    "\n",
    "def apply_fst(text, fst):\n",
    "  \"\"\" Given a string input, returns the output string\n",
    "  produced by traversing the path with lowest weight.\n",
    "  If no valid path accepts input string, returns an\n",
    "  error.\n",
    "  \"\"\"\n",
    "  try:\n",
    "     print(pynini.shortestpath(text @ fst).string())\n",
    "  except pynini.FstOpError:\n",
    "    print(f\"Error: No valid output with given input: '{text}'\")"
   ]
  },
  {
   "attachments": {},
   "cell_type": "markdown",
   "metadata": {},
   "source": [
    "## Digit"
   ]
  },
  {
   "cell_type": "code",
   "execution_count": 19,
   "metadata": {},
   "outputs": [],
   "source": [
    "zero = pynini.string_map([('zero','0')])\n",
    "digit = pynini.string_map([\n",
    "    ('uno','1'),\n",
    "    ('due','2'),\n",
    "    ('tre','3'),\n",
    "    ('quattro','4'),\n",
    "    ('cinque','5'),\n",
    "    ('sei','6'),\n",
    "    ('sette','7'),\n",
    "    ('otto','8'),\n",
    "    ('nove','9'),\n",
    "])"
   ]
  },
  {
   "cell_type": "code",
   "execution_count": 20,
   "metadata": {},
   "outputs": [
    {
     "name": "stdout",
     "output_type": "stream",
     "text": [
      "0\n",
      "1\n",
      "9\n"
     ]
    }
   ],
   "source": [
    "apply_fst(\"zero\", zero)\n",
    "apply_fst(\"uno\", digit)\n",
    "apply_fst(\"nove\", digit)"
   ]
  },
  {
   "attachments": {},
   "cell_type": "markdown",
   "metadata": {},
   "source": [
    "## Teens"
   ]
  },
  {
   "cell_type": "code",
   "execution_count": 21,
   "metadata": {},
   "outputs": [],
   "source": [
    "teen = pynini.string_map([\n",
    "    ('dieci','10'),\n",
    "    ('undici','11'),\n",
    "    ('dodici','12'),\n",
    "    ('tredici','13'),\n",
    "    ('quattordici','14'),\n",
    "    ('quindici','15'),\n",
    "    ('sedici','16'),\n",
    "    ('diciassette','17'),\n",
    "    ('diciotto','18'),\n",
    "    ('diciannove','19')\n",
    "])"
   ]
  },
  {
   "cell_type": "code",
   "execution_count": 22,
   "metadata": {},
   "outputs": [],
   "source": [
    "graph_all = zero | teen | digit"
   ]
  },
  {
   "cell_type": "code",
   "execution_count": 23,
   "metadata": {},
   "outputs": [
    {
     "name": "stdout",
     "output_type": "stream",
     "text": [
      "0\n",
      "3\n",
      "15\n",
      "1\n"
     ]
    }
   ],
   "source": [
    "apply_fst(\"zero\", graph_all)\n",
    "apply_fst(\"tre\", graph_all)\n",
    "apply_fst(\"quindici\", graph_all)\n",
    "apply_fst(\"uno\", graph_all)"
   ]
  },
  {
   "attachments": {},
   "cell_type": "markdown",
   "metadata": {},
   "source": [
    "## Tens"
   ]
  },
  {
   "cell_type": "code",
   "execution_count": 24,
   "metadata": {},
   "outputs": [],
   "source": [
    "tens = pynini.string_map([\n",
    "    ('venti','2'),\n",
    "    ('trenta','3'),\n",
    "    ('quaranta','4'),\n",
    "    ('cinquanta','5'),\n",
    "    ('sessanta','6'),\n",
    "    ('settanta','7'),\n",
    "    ('ottanta','8'),\n",
    "    ('novanta','9'),\n",
    "])\n",
    "\n",
    "# delete_hyphen = pynini.closure(pynutil.delete(\"-\"), 0, 1)\n",
    "# delete_space = pynini.closure(pynutil.delete(\" \"), 0, 1)\n",
    "\n",
    "# graph_tens_h = tens + delete_hyphen + digit\n",
    "# graph_tens_s = tens + delete_space + digit\n",
    "# graph_teens_and_tens = graph_tens_h | graph_tens_s | teen | digit\n",
    "\n",
    "graph_teens_and_tens = tens + digit | teen | digit\n",
    "graph_all = graph_teens_and_tens | zero "
   ]
  },
  {
   "cell_type": "code",
   "execution_count": 25,
   "metadata": {},
   "outputs": [
    {
     "name": "stdout",
     "output_type": "stream",
     "text": [
      "73\n",
      "Error: No valid output with given input: 'trenta'\n",
      "10\n",
      "1\n",
      "Error: No valid output with given input: 'ottantuno'\n"
     ]
    },
    {
     "name": "stderr",
     "output_type": "stream",
     "text": [
      "ERROR: StringFstToOutputLabels: Invalid start state\n",
      "ERROR: StringFstToOutputLabels: Invalid start state\n"
     ]
    }
   ],
   "source": [
    "# apply_fst('settanta-tre', graph_all)\n",
    "# apply_fst('settanta tre', graph_all)\n",
    "apply_fst('settantatre', graph_all)\n",
    "apply_fst('trenta', graph_all)\n",
    "apply_fst('dieci', graph_all)\n",
    "apply_fst('uno', graph_all)\n",
    "apply_fst('ottantuno', graph_all)"
   ]
  },
  {
   "cell_type": "code",
   "execution_count": 10,
   "metadata": {},
   "outputs": [],
   "source": [
    "tens_one = pynini.string_map([\n",
    "    ('ventuno','21'),\n",
    "    ('trentuno','31'),\n",
    "    ('quarantuno','41'),\n",
    "    ('cinquantuno','51'),\n",
    "    ('sessantuno','61'),\n",
    "    ('settantuno','71'),\n",
    "    ('ottantuno','81'),\n",
    "    ('navantuno','91'),\n",
    "])"
   ]
  },
  {
   "cell_type": "code",
   "execution_count": 11,
   "metadata": {},
   "outputs": [],
   "source": [
    "graph_all = graph_teens_and_tens | tens_one | zero"
   ]
  },
  {
   "cell_type": "code",
   "execution_count": 12,
   "metadata": {},
   "outputs": [
    {
     "name": "stdout",
     "output_type": "stream",
     "text": [
      "73\n",
      "10\n",
      "81\n",
      "1\n"
     ]
    }
   ],
   "source": [
    "# apply_fst('settanta-tre', graph_all)\n",
    "# apply_fst('settanta tre', graph_all)\n",
    "apply_fst('settantatre', graph_all)\n",
    "apply_fst('dieci', graph_all)\n",
    "apply_fst('ottantuno', graph_all)\n",
    "apply_fst('uno', graph_all)"
   ]
  },
  {
   "cell_type": "code",
   "execution_count": 13,
   "metadata": {},
   "outputs": [
    {
     "data": {
      "text/plain": [
       "382"
      ]
     },
     "execution_count": 13,
     "metadata": {},
     "output_type": "execute_result"
    }
   ],
   "source": [
    "graph_all.num_states()"
   ]
  },
  {
   "cell_type": "code",
   "execution_count": 14,
   "metadata": {},
   "outputs": [
    {
     "data": {
      "text/plain": [
       "184"
      ]
     },
     "execution_count": 14,
     "metadata": {},
     "output_type": "execute_result"
    }
   ],
   "source": [
    "graph_all.optimize()\n",
    "graph_all.num_states()"
   ]
  },
  {
   "attachments": {},
   "cell_type": "markdown",
   "metadata": {},
   "source": [
    "## Hundreds"
   ]
  },
  {
   "cell_type": "code",
   "execution_count": 15,
   "metadata": {},
   "outputs": [],
   "source": [
    "hundred = pynini.string_map([\n",
    "    ('duecento','20'),\n",
    "    ('trecento','30'),\n",
    "    ('quattrocento','40'),\n",
    "    ('cinquecento','50'),\n",
    "    ('seicento','60'),\n",
    "    ('settecento','70'),\n",
    "    ('ottocento','80'),\n",
    "    ('novecento','90'),\n",
    "])"
   ]
  },
  {
   "cell_type": "code",
   "execution_count": 16,
   "metadata": {},
   "outputs": [],
   "source": [
    "graph_teens_and_tens = tens + digit | teen | tens_one\n",
    "\n",
    "graph_hundred_and_zero = hundred + pynutil.insert(\"0\")\n",
    "graph_hundred_and_digit = hundred + digit\n",
    "graph_hundred_and_tens = digit + pynutil.delete(\"cento\") + tens + pynutil.insert('0')\n",
    "graph_hundred = digit + pynutil.delete(\"cento\") + graph_teens_and_tens"
   ]
  },
  {
   "cell_type": "code",
   "execution_count": 17,
   "metadata": {},
   "outputs": [],
   "source": [
    "hundreds = graph_hundred_and_zero | graph_hundred_and_digit | graph_hundred | graph_hundred_and_tens"
   ]
  },
  {
   "cell_type": "code",
   "execution_count": 18,
   "metadata": {},
   "outputs": [
    {
     "name": "stdout",
     "output_type": "stream",
     "text": [
      "223\n",
      "221\n",
      "203\n",
      "200\n",
      "220\n"
     ]
    }
   ],
   "source": [
    "apply_fst('duecentoventitre', hundreds)\n",
    "apply_fst('duecentoventuno', hundreds)\n",
    "apply_fst('duecentotre', hundreds)\n",
    "apply_fst('duecento', hundreds)\n",
    "apply_fst('duecentoventi', hundreds)"
   ]
  },
  {
   "cell_type": "code",
   "execution_count": 19,
   "metadata": {},
   "outputs": [],
   "source": [
    "graph_teens_and_tens = tens + digit | teen | tens_one\n",
    "cento = pynini.string_map([('cento','1')])\n",
    "\n",
    "cent = cento + pynutil.insert(\"00\")\n",
    "graph_cent_and_tens = cento + tens + pynutil.insert('0')\n",
    "graph_cent = cento + graph_teens_and_tens\n",
    "\n",
    "hundreds_cent = cent | graph_cent_and_tens | graph_cent"
   ]
  },
  {
   "cell_type": "code",
   "execution_count": 20,
   "metadata": {},
   "outputs": [
    {
     "name": "stdout",
     "output_type": "stream",
     "text": [
      "100\n",
      "124\n",
      "120\n",
      "131\n"
     ]
    }
   ],
   "source": [
    "apply_fst('cento', hundreds_cent)\n",
    "apply_fst('centoventiquattro', hundreds_cent)\n",
    "apply_fst('centoventi', hundreds_cent)\n",
    "apply_fst('centotrentuno', hundreds_cent)"
   ]
  },
  {
   "cell_type": "code",
   "execution_count": 21,
   "metadata": {},
   "outputs": [],
   "source": [
    "hundreds_all = hundreds | hundreds_cent"
   ]
  },
  {
   "cell_type": "code",
   "execution_count": 22,
   "metadata": {},
   "outputs": [
    {
     "name": "stdout",
     "output_type": "stream",
     "text": [
      "223\n",
      "221\n",
      "203\n",
      "200\n",
      "220\n",
      "100\n",
      "124\n",
      "120\n",
      "131\n"
     ]
    }
   ],
   "source": [
    "apply_fst('duecentoventitre', hundreds_all)\n",
    "apply_fst('duecentoventuno', hundreds_all)\n",
    "apply_fst('duecentotre', hundreds_all)\n",
    "apply_fst('duecento', hundreds_all)\n",
    "apply_fst('duecentoventi', hundreds_all)\n",
    "apply_fst('cento', hundreds_all)\n",
    "apply_fst('centoventiquattro', hundreds_all)\n",
    "apply_fst('centoventi', hundreds_all)\n",
    "apply_fst('centotrentuno', hundreds_all)"
   ]
  },
  {
   "attachments": {},
   "cell_type": "markdown",
   "metadata": {},
   "source": [
    "## Thousands"
   ]
  },
  {
   "cell_type": "code",
   "execution_count": 23,
   "metadata": {},
   "outputs": [],
   "source": [
    "graph_teens_and_tens = tens + digit | teen | tens_one\n",
    "thousands = hundreds_all | graph_teens_and_tens | digit\n",
    "graph_thousands_hundred = thousands + pynutil.delete('mila') + hundreds_all\n",
    "graph_thousands_tens = thousands + pynutil.delete('mila') + pynutil.insert('0') + graph_teens_and_tens\n",
    "graph_thousands_digit = thousands + pynutil.delete('mila') + pynutil.insert('00') + digit\n",
    "graph_thousands = digit + pynutil.delete('mila') + pynutil.insert('000')\n",
    "\n",
    "mila = graph_thousands_hundred | graph_thousands_tens | graph_thousands_digit | graph_thousands"
   ]
  },
  {
   "cell_type": "code",
   "execution_count": 24,
   "metadata": {},
   "outputs": [
    {
     "name": "stdout",
     "output_type": "stream",
     "text": [
      "216304\n",
      "21240\n",
      "216023\n",
      "216002\n",
      "16002\n",
      "2075\n"
     ]
    }
   ],
   "source": [
    "apply_fst('duecentosedicimilatrecentoquattro', graph_thousands_hundred)\n",
    "apply_fst('ventunomiladuecentoquaranta', graph_thousands_hundred)\n",
    "apply_fst('duecentosedicimilaventitre', graph_thousands_tens)\n",
    "apply_fst('duecentosedicimiladue', graph_thousands_digit)\n",
    "apply_fst('sedicimiladue', graph_thousands_digit)\n",
    "apply_fst('duemilasettantacinque', graph_thousands_tens)"
   ]
  },
  {
   "cell_type": "code",
   "execution_count": 25,
   "metadata": {},
   "outputs": [
    {
     "name": "stdout",
     "output_type": "stream",
     "text": [
      "216304\n",
      "21240\n",
      "216023\n",
      "216002\n",
      "16002\n",
      "16021\n",
      "2075\n",
      "2000\n"
     ]
    }
   ],
   "source": [
    "apply_fst('duecentosedicimilatrecentoquattro', mila)\n",
    "apply_fst('ventunomiladuecentoquaranta', mila)\n",
    "apply_fst('duecentosedicimilaventitre', mila)\n",
    "apply_fst('duecentosedicimiladue', mila)\n",
    "apply_fst('sedicimiladue', mila)\n",
    "apply_fst('sedicimilaventuno', mila)\n",
    "apply_fst('duemilasettantacinque', mila)\n",
    "apply_fst('duemila', mila)"
   ]
  },
  {
   "cell_type": "code",
   "execution_count": 26,
   "metadata": {},
   "outputs": [],
   "source": [
    "graph_teens_and_tens = tens + digit | teen | tens_one\n",
    "mille = pynini.string_map([('mille','1')])\n",
    "\n",
    "mille_zero = mille + pynutil.insert(\"000\")\n",
    "graph_mille_hundreds = mille + hundreds_all\n",
    "graph_mille_tens = mille + pynutil.insert(\"0\") + graph_teens_and_tens\n",
    "graph_mille_digit = mille + pynutil.insert('00') + digit\n",
    "\n",
    "thousands_mille = mille_zero | graph_mille_hundreds | graph_mille_tens | graph_mille_digit"
   ]
  },
  {
   "cell_type": "code",
   "execution_count": 27,
   "metadata": {},
   "outputs": [
    {
     "name": "stdout",
     "output_type": "stream",
     "text": [
      "1000\n",
      "1003\n",
      "1024\n",
      "1312\n"
     ]
    }
   ],
   "source": [
    "apply_fst('mille', thousands_mille)\n",
    "apply_fst('milletre', thousands_mille)\n",
    "apply_fst('milleventiquattro', thousands_mille)\n",
    "apply_fst('milletrecentododici', thousands_mille)"
   ]
  },
  {
   "cell_type": "code",
   "execution_count": 28,
   "metadata": {},
   "outputs": [],
   "source": [
    "thousands_all = thousands_mille | mila"
   ]
  },
  {
   "cell_type": "code",
   "execution_count": 29,
   "metadata": {},
   "outputs": [
    {
     "name": "stdout",
     "output_type": "stream",
     "text": [
      "1000\n",
      "1003\n",
      "1024\n",
      "1312\n",
      "216304\n",
      "21240\n",
      "216023\n",
      "216002\n",
      "16002\n",
      "16021\n",
      "2075\n",
      "2000\n"
     ]
    }
   ],
   "source": [
    "apply_fst('mille', thousands_all)\n",
    "apply_fst('milletre', thousands_all)\n",
    "apply_fst('milleventiquattro', thousands_all)\n",
    "apply_fst('milletrecentododici', thousands_all)\n",
    "apply_fst('duecentosedicimilatrecentoquattro', thousands_all)\n",
    "apply_fst('ventunomiladuecentoquaranta', thousands_all)\n",
    "apply_fst('duecentosedicimilaventitre', thousands_all)\n",
    "apply_fst('duecentosedicimiladue', thousands_all)\n",
    "apply_fst('sedicimiladue', thousands_all)\n",
    "apply_fst('sedicimilaventuno', thousands_all)\n",
    "apply_fst('duemilasettantacinque', thousands_all)\n",
    "apply_fst('duemila', thousands_all)"
   ]
  },
  {
   "attachments": {},
   "cell_type": "markdown",
   "metadata": {},
   "source": [
    "## Weight"
   ]
  },
  {
   "cell_type": "code",
   "execution_count": 86,
   "metadata": {},
   "outputs": [],
   "source": [
    "graph_teens_and_tens = tens + digit | teen | tens_one\n",
    "thousands = hundreds_all | graph_teens_and_tens | digit\n",
    "\n",
    "graph_one_thousand = pynini.cross('mille','1')\n",
    "graph_many_thousand = thousands + pynutil.delete('mila')\n",
    "graph_thousands = (graph_one_thousand | graph_many_thousand) + thousands"
   ]
  },
  {
   "cell_type": "code",
   "execution_count": 87,
   "metadata": {},
   "outputs": [
    {
     "name": "stdout",
     "output_type": "stream",
     "text": [
      "1200\n",
      "2200\n",
      "213214\n",
      "13\n",
      "33\n",
      "312\n"
     ]
    }
   ],
   "source": [
    "apply_fst('milleduecento', graph_thousands)\n",
    "apply_fst('duemiladuecento', graph_thousands)\n",
    "apply_fst('duecentotredicimiladuecentoquattordici', graph_thousands)\n",
    "apply_fst('milletre', graph_thousands)\n",
    "apply_fst('tremilatre', graph_thousands)\n",
    "apply_fst('tremiladodici', graph_thousands)"
   ]
  },
  {
   "cell_type": "code",
   "execution_count": 92,
   "metadata": {},
   "outputs": [],
   "source": [
    "graph_teens_and_tens = tens + digit | teen | tens_one\n",
    "thousands = hundreds_all | graph_teens_and_tens | digit\n",
    "graph_thousands_hundred = thousands + pynutil.delete('mila') + hundreds_all\n",
    "graph_thousands_tens = thousands + pynutil.delete('mila') + pynutil.insert('0') + graph_teens_and_tens\n",
    "graph_thousands_digit = thousands + pynutil.delete('mila') + pynutil.insert('00') + digit\n",
    "graph_thousands = digit + pynutil.delete('mila') + pynutil.insert('000')\n",
    "\n",
    "mila = graph_thousands_hundred | graph_thousands_tens | graph_thousands_digit | graph_thousands"
   ]
  },
  {
   "cell_type": "code",
   "execution_count": 96,
   "metadata": {},
   "outputs": [
    {
     "name": "stdout",
     "output_type": "stream",
     "text": [
      "\u001b[0;31mSignature:\u001b[0m\n",
      "\u001b[0mpynutil\u001b[0m\u001b[0;34m.\u001b[0m\u001b[0mdelete\u001b[0m\u001b[0;34m(\u001b[0m\u001b[0;34m\u001b[0m\n",
      "\u001b[0;34m\u001b[0m    \u001b[0mexpr\u001b[0m\u001b[0;34m:\u001b[0m \u001b[0;34m'typing.Union[Fst, str]'\u001b[0m\u001b[0;34m,\u001b[0m\u001b[0;34m\u001b[0m\n",
      "\u001b[0;34m\u001b[0m    \u001b[0mweight\u001b[0m\u001b[0;34m:\u001b[0m \u001b[0mUnion\u001b[0m\u001b[0;34m[\u001b[0m\u001b[0mForwardRef\u001b[0m\u001b[0;34m(\u001b[0m\u001b[0;34m'Union[Weight, Union[str, int, float]]'\u001b[0m\u001b[0;34m)\u001b[0m\u001b[0;34m,\u001b[0m \u001b[0mNoneType\u001b[0m\u001b[0;34m]\u001b[0m \u001b[0;34m=\u001b[0m \u001b[0;32mNone\u001b[0m\u001b[0;34m,\u001b[0m\u001b[0;34m\u001b[0m\n",
      "\u001b[0;34m\u001b[0m\u001b[0;34m)\u001b[0m \u001b[0;34m->\u001b[0m \u001b[0m_pynini\u001b[0m\u001b[0;34m.\u001b[0m\u001b[0mFst\u001b[0m\u001b[0;34m\u001b[0m\u001b[0;34m\u001b[0m\u001b[0m\n",
      "\u001b[0;31mDocstring:\u001b[0m\n",
      "Creates the transducer for expr x <epsilon>.\n",
      "\n",
      "Args:\n",
      "  expr: an acceptor or string.\n",
      "  weight: an optional weight or string.\n",
      "\n",
      "Returns:\n",
      "  An FST.\n",
      "\u001b[0;31mFile:\u001b[0m      /opt/conda/lib/python3.8/site-packages/pynini/lib/pynutil.py\n",
      "\u001b[0;31mType:\u001b[0m      function\n"
     ]
    }
   ],
   "source": [
    "pynutil.delete?"
   ]
  },
  {
   "cell_type": "code",
   "execution_count": null,
   "metadata": {},
   "outputs": [],
   "source": []
  }
 ],
 "metadata": {
  "kernelspec": {
   "display_name": "base",
   "language": "python",
   "name": "python3"
  },
  "language_info": {
   "codemirror_mode": {
    "name": "ipython",
    "version": 3
   },
   "file_extension": ".py",
   "mimetype": "text/x-python",
   "name": "python",
   "nbconvert_exporter": "python",
   "pygments_lexer": "ipython3",
   "version": "3.8.13"
  },
  "orig_nbformat": 4,
  "vscode": {
   "interpreter": {
    "hash": "d4d1e4263499bec80672ea0156c357c1ee493ec2b1c70f0acce89fc37c4a6abe"
   }
  }
 },
 "nbformat": 4,
 "nbformat_minor": 2
}
