{
 "cells": [
  {
   "cell_type": "code",
   "execution_count": 1,
   "metadata": {},
   "outputs": [],
   "source": [
    "from nemo_text_processing.text_normalization.it.taggers.tokenize_and_classify import ClassifyFst as TNClassifyFst\n",
    "from nemo_text_processing.text_normalization.it.verbalizers.verbalize import VerbalizeFst as TNVerbalizeFst"
   ]
  },
  {
   "cell_type": "code",
   "execution_count": 2,
   "metadata": {},
   "outputs": [],
   "source": [
    "from nemo_text_processing.text_normalization.normalize import Normalizer\n",
    "normalizer = Normalizer(input_case='cased', lang='it')"
   ]
  },
  {
   "cell_type": "code",
   "execution_count": 3,
   "metadata": {},
   "outputs": [
    {
     "name": "stdout",
     "output_type": "stream",
     "text": [
      "tokens { decimal { integer_part: \"trentaduemila trecento quarantaquattro\" fractional_part: \"duecento quarantadue\" preserve_order: true } }\n",
      "trentaduemila trecento quarantaquattro virgola duecento quarantadue\n"
     ]
    }
   ],
   "source": [
    "written = \"32344,242\"\n",
    "norm_it = normalizer.normalize(written, punct_post_process=True, verbose=True)\n",
    "print(norm_it)"
   ]
  },
  {
   "cell_type": "code",
   "execution_count": 4,
   "metadata": {},
   "outputs": [
    {
     "name": "stdout",
     "output_type": "stream",
     "text": [
      "tokens { name: \"il\" } tokens { name: \"dottor\" } tokens { name: \"G\" } tokens { name: \"ha\" } tokens { name: \"l'ufficio\" } tokens { name: \"nel\" } tokens { name: \"dipartimento\" } tokens { name: \"di\" } tokens { name: \"fisica\" }\n",
      "il dottor G ha l'ufficio nel dipartimento di fisica\n"
     ]
    }
   ],
   "source": [
    "written = \"il Dr. G ha l'ufficio nel dip. di fisica\"\n",
    "norm_it = normalizer.normalize(written, punct_post_process=True, verbose=True)\n",
    "print(norm_it)"
   ]
  },
  {
   "cell_type": "code",
   "execution_count": 5,
   "metadata": {},
   "outputs": [
    {
     "name": "stdout",
     "output_type": "stream",
     "text": [
      "A valid `test_data.tar.gz` test archive (10445891B) found in the `/home/giacomo/NeMo-text-processing/tests/.data` folder.\n",
      "\u001b[1m============================= test session starts ==============================\u001b[0m\n",
      "platform linux -- Python 3.8.10, pytest-7.2.1, pluggy-1.0.0 -- /usr/bin/python3\n",
      "cachedir: .pytest_cache\n",
      "rootdir: /home/giacomo/NeMo-text-processing, configfile: setup.cfg\n",
      "plugins: hydra-core-1.1.2\n",
      "collected 6 items                                                              \u001b[0m\u001b[1m\n",
      "\n",
      "it/test_electronic.py::TestChar::test_norm_char_0_https_www_nvidia_com \u001b[32mPASSED\u001b[0m\u001b[32m [ 16%]\u001b[0m\n",
      "it/test_electronic.py::TestChar::test_norm_char_1_https_www_nvidia_com_abc_def_py \u001b[32mPASSED\u001b[0m\u001b[32m [ 33%]\u001b[0m\n",
      "it/test_electronic.py::TestChar::test_norm_char_2_https_www_nvidia_com_abc_12df_like_pdf \u001b[32mPASSED\u001b[0m\u001b[32m [ 50%]\u001b[0m\n",
      "it/test_electronic.py::TestChar::test_norm_char_3_abc_def_23df_sd_IT \u001b[32mPASSED\u001b[0m\u001b[32m [ 66%]\u001b[0m\n",
      "it/test_electronic.py::TestChar::test_norm_char_4_abc_de_f_23d_f_sd_us \u001b[32mPASSED\u001b[0m\u001b[32m [ 83%]\u001b[0m\n",
      "it/test_electronic.py::TestChar::test_norm_char_5_www_nvidia_file_TN_com \u001b[32mPASSED\u001b[0m\u001b[32m [100%]\u001b[0m\n",
      "\n",
      "============================== slowest durations ===============================\n",
      "0.04s call     tests/nemo_text_processing/it/test_electronic.py::TestChar::test_norm_char_0_https_www_nvidia_com\n",
      "0.01s call     tests/nemo_text_processing/it/test_electronic.py::TestChar::test_norm_char_2_https_www_nvidia_com_abc_12df_like_pdf\n",
      "0.01s call     tests/nemo_text_processing/it/test_electronic.py::TestChar::test_norm_char_1_https_www_nvidia_com_abc_def_py\n",
      "0.01s call     tests/nemo_text_processing/it/test_electronic.py::TestChar::test_norm_char_3_abc_def_23df_sd_IT\n",
      "0.01s call     tests/nemo_text_processing/it/test_electronic.py::TestChar::test_norm_char_4_abc_de_f_23d_f_sd_us\n",
      "0.01s call     tests/nemo_text_processing/it/test_electronic.py::TestChar::test_norm_char_5_www_nvidia_file_TN_com\n",
      "\n",
      "(12 durations < 0.005s hidden.  Use -vv to show these durations.)\n",
      "\u001b[32m============================== \u001b[32m\u001b[1m6 passed\u001b[0m\u001b[32m in 3.60s\u001b[0m\u001b[32m ===============================\u001b[0m\n"
     ]
    }
   ],
   "source": [
    "!cd tests/nemo_text_processing && \\\n",
    "pytest it/test_electronic.py --cpu"
   ]
  },
  {
   "cell_type": "code",
   "execution_count": 6,
   "metadata": {},
   "outputs": [
    {
     "name": "stdout",
     "output_type": "stream",
     "text": [
      "A valid `test_data.tar.gz` test archive (10445891B) found in the `/home/giacomo/NeMo-text-processing/tests/.data` folder.\n",
      "\u001b[1m============================= test session starts ==============================\u001b[0m\n",
      "platform linux -- Python 3.8.10, pytest-7.2.1, pluggy-1.0.0 -- /usr/bin/python3\n",
      "cachedir: .pytest_cache\n",
      "rootdir: /home/giacomo/NeMo-text-processing, configfile: setup.cfg\n",
      "plugins: hydra-core-1.1.2\n",
      "collected 11 items                                                             \u001b[0m\u001b[1m\n",
      "\n",
      "it/test_cardinal.py::TestChar::test_norm_char_00_2 \u001b[32mPASSED\u001b[0m\u001b[32m                [  9%]\u001b[0m\n",
      "it/test_cardinal.py::TestChar::test_norm_char_01_3 \u001b[32mPASSED\u001b[0m\u001b[32m                [ 18%]\u001b[0m\n",
      "it/test_cardinal.py::TestChar::test_norm_char_02_4 \u001b[32mPASSED\u001b[0m\u001b[32m                [ 27%]\u001b[0m\n",
      "it/test_cardinal.py::TestChar::test_norm_char_03_5 \u001b[32mPASSED\u001b[0m\u001b[32m                [ 36%]\u001b[0m\n",
      "it/test_cardinal.py::TestChar::test_norm_char_04_15 \u001b[32mPASSED\u001b[0m\u001b[32m               [ 45%]\u001b[0m\n",
      "it/test_cardinal.py::TestChar::test_norm_char_05_155 \u001b[32mPASSED\u001b[0m\u001b[32m              [ 54%]\u001b[0m\n",
      "it/test_cardinal.py::TestChar::test_norm_char_06_369 \u001b[32mPASSED\u001b[0m\u001b[32m              [ 63%]\u001b[0m\n",
      "it/test_cardinal.py::TestChar::test_norm_char_07_3544 \u001b[32mPASSED\u001b[0m\u001b[32m             [ 72%]\u001b[0m\n",
      "it/test_cardinal.py::TestChar::test_norm_char_08_1000 \u001b[32mPASSED\u001b[0m\u001b[32m             [ 81%]\u001b[0m\n",
      "it/test_cardinal.py::TestChar::test_norm_char_09_1034500 \u001b[32mPASSED\u001b[0m\u001b[32m          [ 90%]\u001b[0m\n",
      "it/test_cardinal.py::TestChar::test_norm_char_10_3453243534 \u001b[32mPASSED\u001b[0m\u001b[32m       [100%]\u001b[0m\n",
      "\n",
      "============================== slowest durations ===============================\n",
      "0.02s call     tests/nemo_text_processing/it/test_cardinal.py::TestChar::test_norm_char_10_3453243534\n",
      "0.02s call     tests/nemo_text_processing/it/test_cardinal.py::TestChar::test_norm_char_09_1034500\n",
      "0.01s call     tests/nemo_text_processing/it/test_cardinal.py::TestChar::test_norm_char_07_3544\n",
      "\n",
      "(30 durations < 0.005s hidden.  Use -vv to show these durations.)\n",
      "\u001b[32m============================== \u001b[32m\u001b[1m11 passed\u001b[0m\u001b[32m in 3.32s\u001b[0m\u001b[32m ==============================\u001b[0m\n"
     ]
    }
   ],
   "source": [
    "!cd tests/nemo_text_processing && \\\n",
    "pytest it/test_cardinal.py --cpu"
   ]
  },
  {
   "cell_type": "code",
   "execution_count": 7,
   "metadata": {},
   "outputs": [
    {
     "name": "stdout",
     "output_type": "stream",
     "text": [
      "A valid `test_data.tar.gz` test archive (10445891B) found in the `/home/giacomo/NeMo-text-processing/tests/.data` folder.\n",
      "\u001b[1m============================= test session starts ==============================\u001b[0m\n",
      "platform linux -- Python 3.8.10, pytest-7.2.1, pluggy-1.0.0 -- /usr/bin/python3\n",
      "cachedir: .pytest_cache\n",
      "rootdir: /home/giacomo/NeMo-text-processing, configfile: setup.cfg\n",
      "plugins: hydra-core-1.1.2\n",
      "collected 4 items                                                              \u001b[0m\u001b[1m\n",
      "\n",
      "it/test_decimal.py::TestChar::test_norm_char_0_33_32 \u001b[32mPASSED\u001b[0m\u001b[32m              [ 25%]\u001b[0m\n",
      "it/test_decimal.py::TestChar::test_norm_char_1_5_342 \u001b[32mPASSED\u001b[0m\u001b[32m              [ 50%]\u001b[0m\n",
      "it/test_decimal.py::TestChar::test_norm_char_2_4_56_milioni \u001b[32mPASSED\u001b[0m\u001b[32m       [ 75%]\u001b[0m\n",
      "it/test_decimal.py::TestChar::test_norm_char_3_3_55_miliardi \u001b[32mPASSED\u001b[0m\u001b[32m      [100%]\u001b[0m\n",
      "\n",
      "============================== slowest durations ===============================\n",
      "0.01s call     tests/nemo_text_processing/it/test_decimal.py::TestChar::test_norm_char_1_5_342\n",
      "0.01s call     tests/nemo_text_processing/it/test_decimal.py::TestChar::test_norm_char_2_4_56_milioni\n",
      "0.01s call     tests/nemo_text_processing/it/test_decimal.py::TestChar::test_norm_char_3_3_55_miliardi\n",
      "0.01s call     tests/nemo_text_processing/it/test_decimal.py::TestChar::test_norm_char_0_33_32\n",
      "\n",
      "(8 durations < 0.005s hidden.  Use -vv to show these durations.)\n",
      "\u001b[32m============================== \u001b[32m\u001b[1m4 passed\u001b[0m\u001b[32m in 3.14s\u001b[0m\u001b[32m ===============================\u001b[0m\n"
     ]
    }
   ],
   "source": [
    "!cd tests/nemo_text_processing && \\\n",
    "pytest it/test_decimal.py --cpu"
   ]
  },
  {
   "cell_type": "code",
   "execution_count": null,
   "metadata": {},
   "outputs": [],
   "source": [
    "!cd tools/text_processing_deployment && \\\n",
    "bash export_grammars.sh --GRAMMARS=tn_grammars --INPUT_CASE=cased --LANGUAGE=it --MODE=test"
   ]
  },
  {
   "cell_type": "code",
   "execution_count": null,
   "metadata": {},
   "outputs": [],
   "source": [
    "from nemo_text_processing.text_normalization.normalize import Normalizer\n",
    "normalizer_es = Normalizer(input_case='cased', lang='es')"
   ]
  },
  {
   "cell_type": "code",
   "execution_count": null,
   "metadata": {},
   "outputs": [],
   "source": [
    "written_es = \"2 km\"\n",
    "norm_es = normalizer_es.normalize(written_es, punct_post_process=True, verbose=True)\n",
    "print(norm_es)"
   ]
  },
  {
   "cell_type": "code",
   "execution_count": null,
   "metadata": {},
   "outputs": [],
   "source": []
  }
 ],
 "metadata": {
  "kernelspec": {
   "display_name": "Python 3",
   "language": "python",
   "name": "python3"
  },
  "language_info": {
   "codemirror_mode": {
    "name": "ipython",
    "version": 3
   },
   "file_extension": ".py",
   "mimetype": "text/x-python",
   "name": "python",
   "nbconvert_exporter": "python",
   "pygments_lexer": "ipython3",
   "version": "3.8.10"
  },
  "orig_nbformat": 4
 },
 "nbformat": 4,
 "nbformat_minor": 2
}
