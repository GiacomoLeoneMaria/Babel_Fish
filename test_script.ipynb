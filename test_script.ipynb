{
 "cells": [
  {
   "cell_type": "code",
   "execution_count": 15,
   "metadata": {},
   "outputs": [],
   "source": [
    "import json\n",
    "import nemo\n",
    "import torch\n",
    "import librosa\n",
    "import numpy as np\n",
    "\n",
    "from pathlib import Path\n",
    "from tqdm.notebook import tqdm"
   ]
  },
  {
   "cell_type": "code",
   "execution_count": 5,
   "metadata": {},
   "outputs": [
    {
     "name": "stdout",
     "output_type": "stream",
     "text": [
      "Created test/la_contessa_di_karolystria/cache_dir/en_tn_post_processing.far\n",
      "[NeMo I 2023-03-06 15:13:59 tokenize_and_classify:87] Creating ClassifyFst grammars.\n",
      "Created test/la_contessa_di_karolystria/cache_dir/en_tn_True_deterministic_cased__tokenize.far\n",
      "[NeMo I 2023-03-06 15:14:28 tokenize_and_classify:215] ClassifyFst grammars are saved to test/la_contessa_di_karolystria/cache_dir/en_tn_True_deterministic_cased__tokenize.far.\n",
      "Created test/la_contessa_di_karolystria/cache_dir/en_tn_True_deterministic_verbalizer.far\n",
      "[NeMo I 2023-03-06 15:14:29 verbalize_final:76] VerbalizeFinalFst grammars are saved to test/la_contessa_di_karolystria/cache_dir/en_tn_True_deterministic_verbalizer.far.\n"
     ]
    }
   ],
   "source": [
    "!(cd nemo && \\\n",
    "    python my_get_data.py \\\n",
    "        --data-root test/ \\\n",
    "        --val-size 0.1 \\\n",
    "        --test-size 0.2)"
   ]
  },
  {
   "cell_type": "code",
   "execution_count": 19,
   "metadata": {},
   "outputs": [
    {
     "name": "stdout",
     "output_type": "stream",
     "text": [
      "Created test/la_contessa_di_karolystria/cache_dir_multispeakers/en_tn_post_processing.far\n",
      "[NeMo I 2023-03-06 16:37:06 tokenize_and_classify:87] Creating ClassifyFst grammars.\n",
      "Created test/la_contessa_di_karolystria/cache_dir_multispeakers/en_tn_True_deterministic_cased__tokenize.far\n",
      "[NeMo I 2023-03-06 16:37:36 tokenize_and_classify:215] ClassifyFst grammars are saved to test/la_contessa_di_karolystria/cache_dir_multispeakers/en_tn_True_deterministic_cased__tokenize.far.\n",
      "Created test/la_contessa_di_karolystria/cache_dir_multispeakers/en_tn_True_deterministic_verbalizer.far\n",
      "[NeMo I 2023-03-06 16:37:38 verbalize_final:76] VerbalizeFinalFst grammars are saved to test/la_contessa_di_karolystria/cache_dir_multispeakers/en_tn_True_deterministic_verbalizer.far.\n",
      "Created test/le_meraviglie_del_duemila/cache_dir_multispeakers/en_tn_post_processing.far\n",
      "[NeMo I 2023-03-06 16:39:27 tokenize_and_classify:87] Creating ClassifyFst grammars.\n",
      "Created test/le_meraviglie_del_duemila/cache_dir_multispeakers/en_tn_True_deterministic_cased__tokenize.far\n",
      "[NeMo I 2023-03-06 16:40:00 tokenize_and_classify:215] ClassifyFst grammars are saved to test/le_meraviglie_del_duemila/cache_dir_multispeakers/en_tn_True_deterministic_cased__tokenize.far.\n",
      "Created test/le_meraviglie_del_duemila/cache_dir_multispeakers/en_tn_True_deterministic_verbalizer.far\n",
      "[NeMo I 2023-03-06 16:40:02 verbalize_final:76] VerbalizeFinalFst grammars are saved to test/le_meraviglie_del_duemila/cache_dir_multispeakers/en_tn_True_deterministic_verbalizer.far.\n"
     ]
    }
   ],
   "source": [
    "!(cd /workspace/nemo && \\\n",
    "    python my_get_data_multi_speaker.py \\\n",
    "        --data-root test/ \\\n",
    "        --val-size 0.1 \\\n",
    "        --test-size 0.2)"
   ]
  },
  {
   "cell_type": "code",
   "execution_count": 20,
   "metadata": {},
   "outputs": [
    {
     "name": "stdout",
     "output_type": "stream",
     "text": [
      "Created test/la_contessa_di_karolystria/cache_dir_multispeakers/en_tn_post_processing.far\n",
      "[NeMo I 2023-03-06 17:13:30 tokenize_and_classify:87] Creating ClassifyFst grammars.\n",
      "Created test/la_contessa_di_karolystria/cache_dir_multispeakers/en_tn_True_deterministic_cased__tokenize.far\n",
      "[NeMo I 2023-03-06 17:13:57 tokenize_and_classify:215] ClassifyFst grammars are saved to test/la_contessa_di_karolystria/cache_dir_multispeakers/en_tn_True_deterministic_cased__tokenize.far.\n",
      "Created test/la_contessa_di_karolystria/cache_dir_multispeakers/en_tn_True_deterministic_verbalizer.far\n",
      "[NeMo I 2023-03-06 17:13:59 verbalize_final:76] VerbalizeFinalFst grammars are saved to test/la_contessa_di_karolystria/cache_dir_multispeakers/en_tn_True_deterministic_verbalizer.far.\n",
      "Created test/le_meraviglie_del_duemila/cache_dir_multispeakers/en_tn_post_processing.far\n",
      "[NeMo I 2023-03-06 17:15:37 tokenize_and_classify:87] Creating ClassifyFst grammars.\n",
      "Created test/le_meraviglie_del_duemila/cache_dir_multispeakers/en_tn_True_deterministic_cased__tokenize.far\n",
      "[NeMo I 2023-03-06 17:16:08 tokenize_and_classify:215] ClassifyFst grammars are saved to test/le_meraviglie_del_duemila/cache_dir_multispeakers/en_tn_True_deterministic_cased__tokenize.far.\n",
      "Created test/le_meraviglie_del_duemila/cache_dir_multispeakers/en_tn_True_deterministic_verbalizer.far\n",
      "[NeMo I 2023-03-06 17:16:09 verbalize_final:76] VerbalizeFinalFst grammars are saved to test/le_meraviglie_del_duemila/cache_dir_multispeakers/en_tn_True_deterministic_verbalizer.far.\n"
     ]
    }
   ],
   "source": [
    "!(cd /workspace/nemo && \\\n",
    "    python my_get_data_multi_speaker_separate.py \\\n",
    "        --data-root test/ \\\n",
    "        --val-size 0.1 \\\n",
    "        --test-size 0.2)"
   ]
  },
  {
   "cell_type": "code",
   "execution_count": 6,
   "metadata": {},
   "outputs": [
    {
     "name": "stdout",
     "output_type": "stream",
     "text": [
      "Looking in indexes: https://pypi.org/simple, https://pypi.ngc.nvidia.com\n",
      "Requirement already satisfied: phonemizer in /opt/conda/lib/python3.8/site-packages (3.2.1)\n",
      "Requirement already satisfied: attrs>=18.1 in /opt/conda/lib/python3.8/site-packages (from phonemizer) (22.1.0)\n",
      "Requirement already satisfied: segments in /opt/conda/lib/python3.8/site-packages (from phonemizer) (2.2.1)\n",
      "Requirement already satisfied: joblib in /opt/conda/lib/python3.8/site-packages (from phonemizer) (1.2.0)\n",
      "Requirement already satisfied: typing-extensions in /opt/conda/lib/python3.8/site-packages (from phonemizer) (4.3.0)\n",
      "Requirement already satisfied: dlinfo in /opt/conda/lib/python3.8/site-packages (from phonemizer) (1.2.1)\n",
      "Requirement already satisfied: regex in /opt/conda/lib/python3.8/site-packages (from segments->phonemizer) (2022.9.13)\n",
      "Requirement already satisfied: csvw>=1.5.6 in /opt/conda/lib/python3.8/site-packages (from segments->phonemizer) (3.1.3)\n",
      "Requirement already satisfied: clldutils>=1.7.3 in /opt/conda/lib/python3.8/site-packages (from segments->phonemizer) (3.19.0)\n",
      "Requirement already satisfied: pylatexenc in /opt/conda/lib/python3.8/site-packages (from clldutils>=1.7.3->segments->phonemizer) (2.10)\n",
      "Requirement already satisfied: lxml in /opt/conda/lib/python3.8/site-packages (from clldutils>=1.7.3->segments->phonemizer) (4.9.1)\n",
      "Requirement already satisfied: markupsafe in /opt/conda/lib/python3.8/site-packages (from clldutils>=1.7.3->segments->phonemizer) (2.1.1)\n",
      "Requirement already satisfied: python-dateutil in /opt/conda/lib/python3.8/site-packages (from clldutils>=1.7.3->segments->phonemizer) (2.8.2)\n",
      "Requirement already satisfied: colorlog in /opt/conda/lib/python3.8/site-packages (from clldutils>=1.7.3->segments->phonemizer) (6.7.0)\n",
      "Requirement already satisfied: tabulate>=0.7.7 in /opt/conda/lib/python3.8/site-packages (from clldutils>=1.7.3->segments->phonemizer) (0.8.10)\n",
      "Requirement already satisfied: markdown in /opt/conda/lib/python3.8/site-packages (from clldutils>=1.7.3->segments->phonemizer) (3.4.1)\n",
      "Requirement already satisfied: colorama in /opt/conda/lib/python3.8/site-packages (from csvw>=1.5.6->segments->phonemizer) (0.4.5)\n",
      "Requirement already satisfied: jsonschema in /opt/conda/lib/python3.8/site-packages (from csvw>=1.5.6->segments->phonemizer) (4.16.0)\n",
      "Requirement already satisfied: isodate in /opt/conda/lib/python3.8/site-packages (from csvw>=1.5.6->segments->phonemizer) (0.6.1)\n",
      "Requirement already satisfied: babel in /opt/conda/lib/python3.8/site-packages (from csvw>=1.5.6->segments->phonemizer) (2.10.3)\n",
      "Requirement already satisfied: rfc3986<2 in /opt/conda/lib/python3.8/site-packages (from csvw>=1.5.6->segments->phonemizer) (1.5.0)\n",
      "Requirement already satisfied: uritemplate>=3.0.0 in /opt/conda/lib/python3.8/site-packages (from csvw>=1.5.6->segments->phonemizer) (4.1.1)\n",
      "Requirement already satisfied: requests in /opt/conda/lib/python3.8/site-packages (from csvw>=1.5.6->segments->phonemizer) (2.28.1)\n",
      "Requirement already satisfied: rdflib in /opt/conda/lib/python3.8/site-packages (from csvw>=1.5.6->segments->phonemizer) (6.2.0)\n",
      "Requirement already satisfied: language-tags in /opt/conda/lib/python3.8/site-packages (from csvw>=1.5.6->segments->phonemizer) (1.2.0)\n",
      "Requirement already satisfied: pytz>=2015.7 in /opt/conda/lib/python3.8/site-packages (from babel->csvw>=1.5.6->segments->phonemizer) (2022.2.1)\n",
      "Requirement already satisfied: six in /opt/conda/lib/python3.8/site-packages (from isodate->csvw>=1.5.6->segments->phonemizer) (1.16.0)\n",
      "Requirement already satisfied: importlib-resources>=1.4.0 in /opt/conda/lib/python3.8/site-packages (from jsonschema->csvw>=1.5.6->segments->phonemizer) (5.2.3)\n",
      "Requirement already satisfied: pyrsistent!=0.17.0,!=0.17.1,!=0.17.2,>=0.14.0 in /opt/conda/lib/python3.8/site-packages (from jsonschema->csvw>=1.5.6->segments->phonemizer) (0.18.1)\n",
      "Requirement already satisfied: pkgutil-resolve-name>=1.3.10 in /opt/conda/lib/python3.8/site-packages (from jsonschema->csvw>=1.5.6->segments->phonemizer) (1.3.10)\n",
      "Requirement already satisfied: zipp>=3.1.0 in /opt/conda/lib/python3.8/site-packages (from importlib-resources>=1.4.0->jsonschema->csvw>=1.5.6->segments->phonemizer) (3.8.1)\n",
      "Requirement already satisfied: importlib-metadata>=4.4 in /opt/conda/lib/python3.8/site-packages (from markdown->clldutils>=1.7.3->segments->phonemizer) (4.12.0)\n",
      "Requirement already satisfied: setuptools in /opt/conda/lib/python3.8/site-packages (from rdflib->csvw>=1.5.6->segments->phonemizer) (59.5.0)\n",
      "Requirement already satisfied: pyparsing in /opt/conda/lib/python3.8/site-packages (from rdflib->csvw>=1.5.6->segments->phonemizer) (3.0.9)\n",
      "Requirement already satisfied: charset-normalizer<3,>=2 in /opt/conda/lib/python3.8/site-packages (from requests->csvw>=1.5.6->segments->phonemizer) (2.1.0)\n",
      "Requirement already satisfied: certifi>=2017.4.17 in /opt/conda/lib/python3.8/site-packages (from requests->csvw>=1.5.6->segments->phonemizer) (2022.9.14)\n",
      "Requirement already satisfied: idna<4,>=2.5 in /opt/conda/lib/python3.8/site-packages (from requests->csvw>=1.5.6->segments->phonemizer) (3.3)\n",
      "Requirement already satisfied: urllib3<1.27,>=1.21.1 in /opt/conda/lib/python3.8/site-packages (from requests->csvw>=1.5.6->segments->phonemizer) (1.26.11)\n",
      "\u001b[33mWARNING: Running pip as the 'root' user can result in broken permissions and conflicting behaviour with the system package manager. It is recommended to use a virtual environment instead: https://pip.pypa.io/warnings/venv\u001b[0m\n",
      "Get:1 http://archive.ubuntu.com/ubuntu focal InRelease [265 kB]\n",
      "Get:2 http://archive.ubuntu.com/ubuntu focal-updates InRelease [114 kB]\n",
      "Get:3 http://archive.ubuntu.com/ubuntu focal-backports InRelease [108 kB]\n",
      "Get:4 http://archive.ubuntu.com/ubuntu focal/main amd64 Packages [1275 kB]\n",
      "Get:5 http://security.ubuntu.com/ubuntu focal-security InRelease [114 kB]\n",
      "Get:6 http://security.ubuntu.com/ubuntu focal-security/main amd64 Packages [2535 kB]\n",
      "Get:7 http://archive.ubuntu.com/ubuntu focal/restricted amd64 Packages [33.4 kB]\n",
      "Get:8 http://archive.ubuntu.com/ubuntu focal/universe amd64 Packages [11.3 MB]\n",
      "Get:9 http://security.ubuntu.com/ubuntu focal-security/universe amd64 Packages [1013 kB]\n",
      "Get:10 http://security.ubuntu.com/ubuntu focal-security/multiverse amd64 Packages [28.5 kB]\n",
      "Get:11 http://security.ubuntu.com/ubuntu focal-security/restricted amd64 Packages [1998 kB]\n",
      "Get:12 http://archive.ubuntu.com/ubuntu focal/multiverse amd64 Packages [177 kB]\n",
      "Get:13 http://archive.ubuntu.com/ubuntu focal-updates/universe amd64 Packages [1307 kB]\n",
      "Get:14 http://archive.ubuntu.com/ubuntu focal-updates/multiverse amd64 Packages [31.2 kB]\n",
      "Get:15 http://archive.ubuntu.com/ubuntu focal-updates/main amd64 Packages [3014 kB]\n",
      "Get:16 http://archive.ubuntu.com/ubuntu focal-updates/restricted amd64 Packages [2134 kB]\n",
      "Get:17 http://archive.ubuntu.com/ubuntu focal-backports/universe amd64 Packages [28.6 kB]\n",
      "Get:18 http://archive.ubuntu.com/ubuntu focal-backports/main amd64 Packages [55.2 kB]\n",
      "Fetched 25.6 MB in 17s (1513 kB/s)                                             \n",
      "Reading package lists... Done\n"
     ]
    }
   ],
   "source": [
    "!pip install phonemizer && apt-get update\n",
    "#apt-get install espeak-ng"
   ]
  },
  {
   "cell_type": "code",
   "execution_count": 14,
   "metadata": {},
   "outputs": [
    {
     "name": "stdout",
     "output_type": "stream",
     "text": [
      "Phonemizing: /workspace/nemo/test/la_contessa_di_karolystria/train_manifest.json\n",
      "3518it [00:00, 3747.24it/s]\n",
      "Phonemizing is complete: /workspace/nemo/test/la_contessa_di_karolystria/train_manifest.json --> train_manifest_phonemes.json\n",
      "Phonemizing: /workspace/nemo/test/la_contessa_di_karolystria/test_manifest.json\n",
      "1006it [00:00, 3568.34it/s]\n",
      "Phonemizing is complete: /workspace/nemo/test/la_contessa_di_karolystria/test_manifest.json --> test_manifest_phonemes.json\n",
      "Phonemizing: /workspace/nemo/test/la_contessa_di_karolystria/val_manifest.json\n",
      "502it [00:00, 3805.39it/s]\n",
      "Phonemizing is complete: /workspace/nemo/test/la_contessa_di_karolystria/val_manifest.json --> val_manifest_phonemes.json\n"
     ]
    }
   ],
   "source": [
    "!(cd /workspace/nemo && \\\n",
    "    python my_phonemizer.py \\\n",
    "        --manifests /workspace/nemo/test/la_contessa_di_karolystria/train_manifest.json /workspace/nemo/test/la_contessa_di_karolystria/test_manifest.json /workspace/nemo/test/la_contessa_di_karolystria/val_manifest.json \\\n",
    "        --language it \\\n",
    "        --preserve-punctuation)"
   ]
  },
  {
   "cell_type": "code",
   "execution_count": 11,
   "metadata": {},
   "outputs": [
    {
     "name": "stdout",
     "output_type": "stream",
     "text": [
      "la_contessa_di_karolystria  le_meraviglie_del_duemila  test_script.ipynb\n"
     ]
    }
   ],
   "source": [
    "/workspace/nemo/test/la_contessa_di_karolystria"
   ]
  },
  {
   "cell_type": "code",
   "execution_count": null,
   "metadata": {},
   "outputs": [],
   "source": []
  }
 ],
 "metadata": {
  "kernelspec": {
   "display_name": "base",
   "language": "python",
   "name": "python3"
  },
  "language_info": {
   "codemirror_mode": {
    "name": "ipython",
    "version": 3
   },
   "file_extension": ".py",
   "mimetype": "text/x-python",
   "name": "python",
   "nbconvert_exporter": "python",
   "pygments_lexer": "ipython3",
   "version": "3.8.13"
  },
  "orig_nbformat": 4
 },
 "nbformat": 4,
 "nbformat_minor": 2
}
